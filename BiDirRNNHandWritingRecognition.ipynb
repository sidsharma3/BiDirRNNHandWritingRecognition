{
  "nbformat": 4,
  "nbformat_minor": 0,
  "metadata": {
    "colab": {
      "name": "BiDirRNNHandWritingRecognition.ipynb",
      "provenance": [],
      "authorship_tag": "ABX9TyP5vvSnt7LCul1JnnIjL5eJ",
      "include_colab_link": true
    },
    "kernelspec": {
      "name": "python3",
      "display_name": "Python 3"
    },
    "language_info": {
      "name": "python"
    }
  },
  "cells": [
    {
      "cell_type": "markdown",
      "metadata": {
        "id": "view-in-github",
        "colab_type": "text"
      },
      "source": [
        "<a href=\"https://colab.research.google.com/github/sidsharma3/BiDirRNNHandWritingRecognition/blob/main/BiDirRNNHandWritingRecognition.ipynb\" target=\"_parent\"><img src=\"https://colab.research.google.com/assets/colab-badge.svg\" alt=\"Open In Colab\"/></a>"
      ]
    },
    {
      "cell_type": "code",
      "metadata": {
        "id": "zQDmhyPhDL11"
      },
      "source": [
        "from __future__ import print_function, division\n",
        "from builtins import range, input\n",
        "import os\n",
        "from keras.models import Model\n",
        "from keras.layers import Input, LSTM, Bidirectional, GlobalMaxPooling1D, Lambda, Concatenate, Dense\n",
        "import keras.backend as K\n",
        "import numpy as np\n",
        "import pandas as pd"
      ],
      "execution_count": null,
      "outputs": []
    },
    {
      "cell_type": "code",
      "metadata": {
        "id": "XeK9WMQrDTjT"
      },
      "source": [
        "def get_data(limit=None):\n",
        "  df = pd.read_csv('./train.csv')\n",
        "  data = df.values\n",
        "  np.random.shuffle(data)\n",
        "  X = data[:, 1:].reshape(-1, 28, 28) / 255.0 \n",
        "  Y = data[:, 0]\n",
        "  if limit is not None:\n",
        "    X, Y = X[:limit], Y[:limit]\n",
        "  return X, Y\n",
        "X, Y = get_data()\n",
        "D = 28 # since each image is 28 by 28 pixels\n",
        "M = 20"
      ],
      "execution_count": null,
      "outputs": []
    },
    {
      "cell_type": "code",
      "metadata": {
        "id": "4fQbNJmOGLFG"
      },
      "source": [
        "# since image is 28 pixels by 28 pixels we set D as 28\n",
        "input_ = Input(shape=(D, D))\n",
        "# vertical\n",
        "rnn1 = Bidirectional(LSTM(M, return_sequences=True))\n",
        "x1 = rnn1(input_) # output is N x D x 2M\n",
        "x1 = GlobalMaxPooling1D()(x1) # output is N x 2M\n",
        "# horizontal\n",
        "rnn2 = Bidirectional(LSTM(M, return_sequences=True))\n",
        "permutor = Lambda(lambda t: K.permute_dimensions(t, pattern=(0, 2, 1)))\n",
        "x2 = permutor(input_)\n",
        "x2 = rnn2(x2) \n",
        "x2 = GlobalMaxPooling1D()(x2)\n",
        "# combining vertical and horizontal\n",
        "concatenator = Concatenate(axis=1)\n",
        "x = concatenator([x1, x2]) \n",
        "output = Dense(10, activation='softmax')(x)\n",
        "model = Model(inputs=input_, outputs=output)"
      ],
      "execution_count": null,
      "outputs": []
    },
    {
      "cell_type": "code",
      "metadata": {
        "id": "9j1uHz9aGmgj"
      },
      "source": [
        "model.compile(\n",
        "  loss='sparse_categorical_crossentropy', # since we do not want one hot encode data\n",
        "  optimizer='adam',\n",
        "  metrics=['accuracy']\n",
        ")"
      ],
      "execution_count": null,
      "outputs": []
    },
    {
      "cell_type": "code",
      "metadata": {
        "colab": {
          "base_uri": "https://localhost:8080/"
        },
        "id": "3iSlPRVKGqpe",
        "outputId": "66b1fc9b-2edb-40bc-cdca-60518a636b2a"
      },
      "source": [
        "r = model.fit(X, Y, batch_size=32, epochs=20, validation_split=0.3) \n",
        "# Best accuracy: 99.4%\n",
        "# Best Validation accuracy: 98%"
      ],
      "execution_count": null,
      "outputs": [
        {
          "output_type": "stream",
          "text": [
            "Epoch 1/20\n",
            "919/919 [==============================] - 29s 32ms/step - loss: 0.3189 - accuracy: 0.9136 - val_loss: 0.2222 - val_accuracy: 0.9374\n",
            "Epoch 2/20\n",
            "919/919 [==============================] - 27s 30ms/step - loss: 0.1833 - accuracy: 0.9470 - val_loss: 0.1622 - val_accuracy: 0.9533\n",
            "Epoch 3/20\n",
            "919/919 [==============================] - 28s 30ms/step - loss: 0.1354 - accuracy: 0.9609 - val_loss: 0.1413 - val_accuracy: 0.9577\n",
            "Epoch 4/20\n",
            "919/919 [==============================] - 28s 30ms/step - loss: 0.1137 - accuracy: 0.9660 - val_loss: 0.1124 - val_accuracy: 0.9660\n",
            "Epoch 5/20\n",
            "919/919 [==============================] - 28s 30ms/step - loss: 0.0956 - accuracy: 0.9719 - val_loss: 0.1026 - val_accuracy: 0.9686\n",
            "Epoch 6/20\n",
            "919/919 [==============================] - 28s 30ms/step - loss: 0.0846 - accuracy: 0.9749 - val_loss: 0.0985 - val_accuracy: 0.9689\n",
            "Epoch 7/20\n",
            "919/919 [==============================] - 28s 30ms/step - loss: 0.0743 - accuracy: 0.9774 - val_loss: 0.0950 - val_accuracy: 0.9694\n",
            "Epoch 8/20\n",
            "919/919 [==============================] - 28s 30ms/step - loss: 0.0679 - accuracy: 0.9794 - val_loss: 0.0901 - val_accuracy: 0.9714\n",
            "Epoch 9/20\n",
            "919/919 [==============================] - 28s 30ms/step - loss: 0.0629 - accuracy: 0.9816 - val_loss: 0.0827 - val_accuracy: 0.9744\n",
            "Epoch 10/20\n",
            "919/919 [==============================] - 28s 30ms/step - loss: 0.0561 - accuracy: 0.9833 - val_loss: 0.0856 - val_accuracy: 0.9751\n",
            "Epoch 11/20\n",
            "919/919 [==============================] - 28s 30ms/step - loss: 0.0512 - accuracy: 0.9853 - val_loss: 0.0772 - val_accuracy: 0.9761\n",
            "Epoch 12/20\n",
            "919/919 [==============================] - 28s 30ms/step - loss: 0.0476 - accuracy: 0.9860 - val_loss: 0.0678 - val_accuracy: 0.9790\n",
            "Epoch 13/20\n",
            "919/919 [==============================] - 28s 30ms/step - loss: 0.0419 - accuracy: 0.9878 - val_loss: 0.0691 - val_accuracy: 0.9780\n",
            "Epoch 14/20\n",
            "919/919 [==============================] - 27s 30ms/step - loss: 0.0435 - accuracy: 0.9868 - val_loss: 0.0630 - val_accuracy: 0.9805\n",
            "Epoch 15/20\n",
            "919/919 [==============================] - 28s 30ms/step - loss: 0.0387 - accuracy: 0.9886 - val_loss: 0.0768 - val_accuracy: 0.9763\n",
            "Epoch 16/20\n",
            "919/919 [==============================] - 28s 30ms/step - loss: 0.0348 - accuracy: 0.9901 - val_loss: 0.0712 - val_accuracy: 0.9786\n",
            "Epoch 17/20\n",
            "919/919 [==============================] - 28s 30ms/step - loss: 0.0325 - accuracy: 0.9901 - val_loss: 0.0667 - val_accuracy: 0.9805\n",
            "Epoch 18/20\n",
            "919/919 [==============================] - 28s 30ms/step - loss: 0.0288 - accuracy: 0.9918 - val_loss: 0.0695 - val_accuracy: 0.9794\n",
            "Epoch 19/20\n",
            "919/919 [==============================] - 28s 30ms/step - loss: 0.0269 - accuracy: 0.9917 - val_loss: 0.0753 - val_accuracy: 0.9785\n",
            "Epoch 20/20\n",
            "919/919 [==============================] - 28s 30ms/step - loss: 0.0240 - accuracy: 0.9933 - val_loss: 0.0699 - val_accuracy: 0.9811\n"
          ],
          "name": "stdout"
        }
      ]
    },
    {
      "cell_type": "code",
      "metadata": {
        "id": "ZjzUOHg8GsuH"
      },
      "source": [
        ""
      ],
      "execution_count": null,
      "outputs": []
    }
  ]
}